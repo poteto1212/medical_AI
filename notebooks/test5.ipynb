{
 "cells": [
  {
   "cell_type": "code",
   "execution_count": null,
   "id": "48622e42",
   "metadata": {},
   "outputs": [],
   "source": [
    "#TODO SVMの実装"
   ]
  }
 ],
 "metadata": {
  "language_info": {
   "name": "python"
  }
 },
 "nbformat": 4,
 "nbformat_minor": 5
}
