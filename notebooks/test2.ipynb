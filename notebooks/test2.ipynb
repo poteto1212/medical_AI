{
 "cells": [
  {
   "cell_type": "code",
   "execution_count": 2,
   "id": "519d5016-aa57-4c39-bf13-89b829c56bd4",
   "metadata": {},
   "outputs": [],
   "source": [
    "import pandas as pd\n",
    "import japanize_matplotlib\n",
    "import matplotlib.pyplot as plt\n",
    "from scipy import stats"
   ]
  },
  {
   "cell_type": "code",
   "execution_count": 3,
   "id": "94994356",
   "metadata": {},
   "outputs": [],
   "source": [
    "from sklearn.datasets import load_diabetes\n",
    "dm=load_diabetes(as_frame=True,scaled=False)"
   ]
  },
  {
   "cell_type": "code",
   "execution_count": null,
   "id": "d583ab4c",
   "metadata": {},
   "outputs": [],
   "source": []
  },
  {
   "cell_type": "code",
   "execution_count": 4,
   "id": "1b94060d",
   "metadata": {},
   "outputs": [
    {
     "data": {
      "text/plain": [
       "sklearn.utils._bunch.Bunch"
      ]
     },
     "execution_count": 4,
     "metadata": {},
     "output_type": "execute_result"
    }
   ],
   "source": [
    "type(dm)"
   ]
  },
  {
   "cell_type": "code",
   "execution_count": 5,
   "id": "7419e27b",
   "metadata": {},
   "outputs": [
    {
     "data": {
      "text/plain": [
       "{'data':       age  sex   bmi      bp     s1     s2    s3    s4      s5     s6\n",
       " 0    59.0  2.0  32.1  101.00  157.0   93.2  38.0  4.00  4.8598   87.0\n",
       " 1    48.0  1.0  21.6   87.00  183.0  103.2  70.0  3.00  3.8918   69.0\n",
       " 2    72.0  2.0  30.5   93.00  156.0   93.6  41.0  4.00  4.6728   85.0\n",
       " 3    24.0  1.0  25.3   84.00  198.0  131.4  40.0  5.00  4.8903   89.0\n",
       " 4    50.0  1.0  23.0  101.00  192.0  125.4  52.0  4.00  4.2905   80.0\n",
       " ..    ...  ...   ...     ...    ...    ...   ...   ...     ...    ...\n",
       " 437  60.0  2.0  28.2  112.00  185.0  113.8  42.0  4.00  4.9836   93.0\n",
       " 438  47.0  2.0  24.9   75.00  225.0  166.0  42.0  5.00  4.4427  102.0\n",
       " 439  60.0  2.0  24.9   99.67  162.0  106.6  43.0  3.77  4.1271   95.0\n",
       " 440  36.0  1.0  30.0   95.00  201.0  125.2  42.0  4.79  5.1299   85.0\n",
       " 441  36.0  1.0  19.6   71.00  250.0  133.2  97.0  3.00  4.5951   92.0\n",
       " \n",
       " [442 rows x 10 columns],\n",
       " 'target': 0      151.0\n",
       " 1       75.0\n",
       " 2      141.0\n",
       " 3      206.0\n",
       " 4      135.0\n",
       "        ...  \n",
       " 437    178.0\n",
       " 438    104.0\n",
       " 439    132.0\n",
       " 440    220.0\n",
       " 441     57.0\n",
       " Name: target, Length: 442, dtype: float64,\n",
       " 'frame':       age  sex   bmi      bp     s1     s2    s3    s4      s5     s6  target\n",
       " 0    59.0  2.0  32.1  101.00  157.0   93.2  38.0  4.00  4.8598   87.0   151.0\n",
       " 1    48.0  1.0  21.6   87.00  183.0  103.2  70.0  3.00  3.8918   69.0    75.0\n",
       " 2    72.0  2.0  30.5   93.00  156.0   93.6  41.0  4.00  4.6728   85.0   141.0\n",
       " 3    24.0  1.0  25.3   84.00  198.0  131.4  40.0  5.00  4.8903   89.0   206.0\n",
       " 4    50.0  1.0  23.0  101.00  192.0  125.4  52.0  4.00  4.2905   80.0   135.0\n",
       " ..    ...  ...   ...     ...    ...    ...   ...   ...     ...    ...     ...\n",
       " 437  60.0  2.0  28.2  112.00  185.0  113.8  42.0  4.00  4.9836   93.0   178.0\n",
       " 438  47.0  2.0  24.9   75.00  225.0  166.0  42.0  5.00  4.4427  102.0   104.0\n",
       " 439  60.0  2.0  24.9   99.67  162.0  106.6  43.0  3.77  4.1271   95.0   132.0\n",
       " 440  36.0  1.0  30.0   95.00  201.0  125.2  42.0  4.79  5.1299   85.0   220.0\n",
       " 441  36.0  1.0  19.6   71.00  250.0  133.2  97.0  3.00  4.5951   92.0    57.0\n",
       " \n",
       " [442 rows x 11 columns],\n",
       " 'DESCR': '.. _diabetes_dataset:\\n\\nDiabetes dataset\\n----------------\\n\\nTen baseline variables, age, sex, body mass index, average blood\\npressure, and six blood serum measurements were obtained for each of n =\\n442 diabetes patients, as well as the response of interest, a\\nquantitative measure of disease progression one year after baseline.\\n\\n**Data Set Characteristics:**\\n\\n  :Number of Instances: 442\\n\\n  :Number of Attributes: First 10 columns are numeric predictive values\\n\\n  :Target: Column 11 is a quantitative measure of disease progression one year after baseline\\n\\n  :Attribute Information:\\n      - age     age in years\\n      - sex\\n      - bmi     body mass index\\n      - bp      average blood pressure\\n      - s1      tc, total serum cholesterol\\n      - s2      ldl, low-density lipoproteins\\n      - s3      hdl, high-density lipoproteins\\n      - s4      tch, total cholesterol / HDL\\n      - s5      ltg, possibly log of serum triglycerides level\\n      - s6      glu, blood sugar level\\n\\nNote: Each of these 10 feature variables have been mean centered and scaled by the standard deviation times the square root of `n_samples` (i.e. the sum of squares of each column totals 1).\\n\\nSource URL:\\nhttps://www4.stat.ncsu.edu/~boos/var.select/diabetes.html\\n\\nFor more information see:\\nBradley Efron, Trevor Hastie, Iain Johnstone and Robert Tibshirani (2004) \"Least Angle Regression,\" Annals of Statistics (with discussion), 407-499.\\n(https://web.stanford.edu/~hastie/Papers/LARS/LeastAngle_2002.pdf)\\n',\n",
       " 'feature_names': ['age',\n",
       "  'sex',\n",
       "  'bmi',\n",
       "  'bp',\n",
       "  's1',\n",
       "  's2',\n",
       "  's3',\n",
       "  's4',\n",
       "  's5',\n",
       "  's6'],\n",
       " 'data_filename': 'diabetes_data_raw.csv.gz',\n",
       " 'target_filename': 'diabetes_target.csv.gz',\n",
       " 'data_module': 'sklearn.datasets.data'}"
      ]
     },
     "execution_count": 5,
     "metadata": {},
     "output_type": "execute_result"
    }
   ],
   "source": [
    "dm"
   ]
  },
  {
   "cell_type": "code",
   "execution_count": 16,
   "id": "12c30f8c",
   "metadata": {},
   "outputs": [
    {
     "name": "stdout",
     "output_type": "stream",
     "text": [
      ".. _diabetes_dataset:\n",
      "\n",
      "Diabetes dataset\n",
      "----------------\n",
      "\n",
      "Ten baseline variables, age, sex, body mass index, average blood\n",
      "pressure, and six blood serum measurements were obtained for each of n =\n",
      "442 diabetes patients, as well as the response of interest, a\n",
      "quantitative measure of disease progression one year after baseline.\n",
      "\n",
      "**Data Set Characteristics:**\n",
      "\n",
      "  :Number of Instances: 442\n",
      "\n",
      "  :Number of Attributes: First 10 columns are numeric predictive values\n",
      "\n",
      "  :Target: Column 11 is a quantitative measure of disease progression one year after baseline\n",
      "\n",
      "  :Attribute Information:\n",
      "      - age     age in years\n",
      "      - sex\n",
      "      - bmi     body mass index\n",
      "      - bp      average blood pressure\n",
      "      - s1      tc, total serum cholesterol\n",
      "      - s2      ldl, low-density lipoproteins\n",
      "      - s3      hdl, high-density lipoproteins\n",
      "      - s4      tch, total cholesterol / HDL\n",
      "      - s5      ltg, possibly log of serum triglycerides level\n",
      "      - s6      glu, blood sugar level\n",
      "\n",
      "Note: Each of these 10 feature variables have been mean centered and scaled by the standard deviation times the square root of `n_samples` (i.e. the sum of squares of each column totals 1).\n",
      "\n",
      "Source URL:\n",
      "https://www4.stat.ncsu.edu/~boos/var.select/diabetes.html\n",
      "\n",
      "For more information see:\n",
      "Bradley Efron, Trevor Hastie, Iain Johnstone and Robert Tibshirani (2004) \"Least Angle Regression,\" Annals of Statistics (with discussion), 407-499.\n",
      "(https://web.stanford.edu/~hastie/Papers/LARS/LeastAngle_2002.pdf)\n",
      "\n"
     ]
    }
   ],
   "source": [
    "print(dm.DESCR)"
   ]
  },
  {
   "cell_type": "code",
   "execution_count": 7,
   "id": "51fce7bb",
   "metadata": {},
   "outputs": [
    {
     "data": {
      "application/vnd.microsoft.datawrangler.viewer.v0+json": {
       "columns": [
        {
         "name": "index",
         "rawType": "int64",
         "type": "integer"
        },
        {
         "name": "age",
         "rawType": "float64",
         "type": "float"
        },
        {
         "name": "sex",
         "rawType": "float64",
         "type": "float"
        },
        {
         "name": "bmi",
         "rawType": "float64",
         "type": "float"
        },
        {
         "name": "bp",
         "rawType": "float64",
         "type": "float"
        },
        {
         "name": "s1",
         "rawType": "float64",
         "type": "float"
        },
        {
         "name": "s2",
         "rawType": "float64",
         "type": "float"
        },
        {
         "name": "s3",
         "rawType": "float64",
         "type": "float"
        },
        {
         "name": "s4",
         "rawType": "float64",
         "type": "float"
        },
        {
         "name": "s5",
         "rawType": "float64",
         "type": "float"
        },
        {
         "name": "s6",
         "rawType": "float64",
         "type": "float"
        },
        {
         "name": "target",
         "rawType": "float64",
         "type": "float"
        }
       ],
       "ref": "da274cb9-f15e-4db3-a9a2-b9d5dadc49d0",
       "rows": [
        [
         "0",
         "59.0",
         "2.0",
         "32.1",
         "101.0",
         "157.0",
         "93.2",
         "38.0",
         "4.0",
         "4.8598",
         "87.0",
         "151.0"
        ],
        [
         "1",
         "48.0",
         "1.0",
         "21.6",
         "87.0",
         "183.0",
         "103.2",
         "70.0",
         "3.0",
         "3.8918",
         "69.0",
         "75.0"
        ],
        [
         "2",
         "72.0",
         "2.0",
         "30.5",
         "93.0",
         "156.0",
         "93.6",
         "41.0",
         "4.0",
         "4.6728",
         "85.0",
         "141.0"
        ],
        [
         "3",
         "24.0",
         "1.0",
         "25.3",
         "84.0",
         "198.0",
         "131.4",
         "40.0",
         "5.0",
         "4.8903",
         "89.0",
         "206.0"
        ],
        [
         "4",
         "50.0",
         "1.0",
         "23.0",
         "101.0",
         "192.0",
         "125.4",
         "52.0",
         "4.0",
         "4.2905",
         "80.0",
         "135.0"
        ],
        [
         "5",
         "23.0",
         "1.0",
         "22.6",
         "89.0",
         "139.0",
         "64.8",
         "61.0",
         "2.0",
         "4.1897",
         "68.0",
         "97.0"
        ],
        [
         "6",
         "36.0",
         "2.0",
         "22.0",
         "90.0",
         "160.0",
         "99.6",
         "50.0",
         "3.0",
         "3.9512",
         "82.0",
         "138.0"
        ],
        [
         "7",
         "66.0",
         "2.0",
         "26.2",
         "114.0",
         "255.0",
         "185.0",
         "56.0",
         "4.55",
         "4.2485",
         "92.0",
         "63.0"
        ],
        [
         "8",
         "60.0",
         "2.0",
         "32.1",
         "83.0",
         "179.0",
         "119.4",
         "42.0",
         "4.0",
         "4.4773",
         "94.0",
         "110.0"
        ],
        [
         "9",
         "29.0",
         "1.0",
         "30.0",
         "85.0",
         "180.0",
         "93.4",
         "43.0",
         "4.0",
         "5.3845",
         "88.0",
         "310.0"
        ],
        [
         "10",
         "22.0",
         "1.0",
         "18.6",
         "97.0",
         "114.0",
         "57.6",
         "46.0",
         "2.0",
         "3.9512",
         "83.0",
         "101.0"
        ],
        [
         "11",
         "56.0",
         "2.0",
         "28.0",
         "85.0",
         "184.0",
         "144.8",
         "32.0",
         "6.0",
         "3.5835",
         "77.0",
         "69.0"
        ],
        [
         "12",
         "53.0",
         "1.0",
         "23.7",
         "92.0",
         "186.0",
         "109.2",
         "62.0",
         "3.0",
         "4.3041",
         "81.0",
         "179.0"
        ],
        [
         "13",
         "50.0",
         "2.0",
         "26.2",
         "97.0",
         "186.0",
         "105.4",
         "49.0",
         "4.0",
         "5.0626",
         "88.0",
         "185.0"
        ],
        [
         "14",
         "61.0",
         "1.0",
         "24.0",
         "91.0",
         "202.0",
         "115.4",
         "72.0",
         "3.0",
         "4.2905",
         "73.0",
         "118.0"
        ],
        [
         "15",
         "34.0",
         "2.0",
         "24.7",
         "118.0",
         "254.0",
         "184.2",
         "39.0",
         "7.0",
         "5.037",
         "81.0",
         "171.0"
        ],
        [
         "16",
         "47.0",
         "1.0",
         "30.3",
         "109.0",
         "207.0",
         "100.2",
         "70.0",
         "3.0",
         "5.2149",
         "98.0",
         "166.0"
        ],
        [
         "17",
         "68.0",
         "2.0",
         "27.5",
         "111.0",
         "214.0",
         "147.0",
         "39.0",
         "5.0",
         "4.9416",
         "91.0",
         "144.0"
        ],
        [
         "18",
         "38.0",
         "1.0",
         "25.4",
         "84.0",
         "162.0",
         "103.0",
         "42.0",
         "4.0",
         "4.4427",
         "87.0",
         "97.0"
        ],
        [
         "19",
         "41.0",
         "1.0",
         "24.7",
         "83.0",
         "187.0",
         "108.2",
         "60.0",
         "3.0",
         "4.5433",
         "78.0",
         "168.0"
        ],
        [
         "20",
         "35.0",
         "1.0",
         "21.1",
         "82.0",
         "156.0",
         "87.8",
         "50.0",
         "3.0",
         "4.5109",
         "95.0",
         "68.0"
        ],
        [
         "21",
         "25.0",
         "2.0",
         "24.3",
         "95.0",
         "162.0",
         "98.6",
         "54.0",
         "3.0",
         "3.8501",
         "87.0",
         "49.0"
        ],
        [
         "22",
         "25.0",
         "1.0",
         "26.0",
         "92.0",
         "187.0",
         "120.4",
         "56.0",
         "3.0",
         "3.9703",
         "88.0",
         "68.0"
        ],
        [
         "23",
         "61.0",
         "2.0",
         "32.0",
         "103.67",
         "210.0",
         "85.2",
         "35.0",
         "6.0",
         "6.107",
         "124.0",
         "245.0"
        ],
        [
         "24",
         "31.0",
         "1.0",
         "29.7",
         "88.0",
         "167.0",
         "103.4",
         "48.0",
         "4.0",
         "4.3567",
         "78.0",
         "184.0"
        ],
        [
         "25",
         "30.0",
         "2.0",
         "25.2",
         "83.0",
         "178.0",
         "118.4",
         "34.0",
         "5.0",
         "4.852",
         "83.0",
         "202.0"
        ],
        [
         "26",
         "19.0",
         "1.0",
         "19.2",
         "87.0",
         "124.0",
         "54.0",
         "57.0",
         "2.0",
         "4.1744",
         "90.0",
         "137.0"
        ],
        [
         "27",
         "42.0",
         "1.0",
         "31.9",
         "83.0",
         "158.0",
         "87.6",
         "53.0",
         "3.0",
         "4.4659",
         "101.0",
         "85.0"
        ],
        [
         "28",
         "63.0",
         "1.0",
         "24.4",
         "73.0",
         "160.0",
         "91.4",
         "48.0",
         "3.0",
         "4.6347",
         "78.0",
         "131.0"
        ],
        [
         "29",
         "67.0",
         "2.0",
         "25.8",
         "113.0",
         "158.0",
         "54.2",
         "64.0",
         "2.0",
         "5.2933",
         "104.0",
         "283.0"
        ],
        [
         "30",
         "32.0",
         "1.0",
         "30.5",
         "89.0",
         "182.0",
         "110.6",
         "56.0",
         "3.0",
         "4.3438",
         "89.0",
         "129.0"
        ],
        [
         "31",
         "42.0",
         "1.0",
         "20.3",
         "71.0",
         "161.0",
         "81.2",
         "66.0",
         "2.0",
         "4.2341",
         "81.0",
         "59.0"
        ],
        [
         "32",
         "58.0",
         "2.0",
         "38.0",
         "103.0",
         "150.0",
         "107.2",
         "22.0",
         "7.0",
         "4.6444",
         "98.0",
         "341.0"
        ],
        [
         "33",
         "57.0",
         "1.0",
         "21.7",
         "94.0",
         "157.0",
         "58.0",
         "82.0",
         "2.0",
         "4.4427",
         "92.0",
         "87.0"
        ],
        [
         "34",
         "53.0",
         "1.0",
         "20.5",
         "78.0",
         "147.0",
         "84.2",
         "52.0",
         "3.0",
         "3.989",
         "75.0",
         "65.0"
        ],
        [
         "35",
         "62.0",
         "2.0",
         "23.5",
         "80.33",
         "225.0",
         "112.8",
         "86.0",
         "2.62",
         "4.8752",
         "96.0",
         "102.0"
        ],
        [
         "36",
         "52.0",
         "1.0",
         "28.5",
         "110.0",
         "195.0",
         "97.2",
         "60.0",
         "3.0",
         "5.2417",
         "85.0",
         "265.0"
        ],
        [
         "37",
         "46.0",
         "1.0",
         "27.4",
         "78.0",
         "171.0",
         "88.0",
         "58.0",
         "3.0",
         "4.8283",
         "90.0",
         "276.0"
        ],
        [
         "38",
         "48.0",
         "2.0",
         "33.0",
         "123.0",
         "253.0",
         "163.6",
         "44.0",
         "6.0",
         "5.425",
         "97.0",
         "252.0"
        ],
        [
         "39",
         "48.0",
         "2.0",
         "27.7",
         "73.0",
         "191.0",
         "119.4",
         "46.0",
         "4.0",
         "4.852",
         "92.0",
         "90.0"
        ],
        [
         "40",
         "50.0",
         "2.0",
         "25.6",
         "101.0",
         "229.0",
         "162.2",
         "43.0",
         "5.0",
         "4.7791",
         "114.0",
         "100.0"
        ],
        [
         "41",
         "21.0",
         "1.0",
         "20.1",
         "63.0",
         "135.0",
         "69.0",
         "54.0",
         "3.0",
         "4.0943",
         "89.0",
         "55.0"
        ],
        [
         "42",
         "32.0",
         "2.0",
         "25.4",
         "90.33",
         "153.0",
         "100.4",
         "34.0",
         "4.5",
         "4.5326",
         "83.0",
         "61.0"
        ],
        [
         "43",
         "54.0",
         "1.0",
         "24.2",
         "74.0",
         "204.0",
         "109.0",
         "82.0",
         "2.0",
         "4.1744",
         "109.0",
         "92.0"
        ],
        [
         "44",
         "61.0",
         "2.0",
         "32.7",
         "97.0",
         "177.0",
         "118.4",
         "29.0",
         "6.0",
         "4.9972",
         "87.0",
         "259.0"
        ],
        [
         "45",
         "56.0",
         "2.0",
         "23.1",
         "104.0",
         "181.0",
         "116.4",
         "47.0",
         "4.0",
         "4.4773",
         "79.0",
         "53.0"
        ],
        [
         "46",
         "33.0",
         "1.0",
         "25.3",
         "85.0",
         "155.0",
         "85.0",
         "51.0",
         "3.0",
         "4.5539",
         "70.0",
         "190.0"
        ],
        [
         "47",
         "27.0",
         "1.0",
         "19.6",
         "78.0",
         "128.0",
         "68.0",
         "43.0",
         "3.0",
         "4.4427",
         "71.0",
         "142.0"
        ],
        [
         "48",
         "67.0",
         "2.0",
         "22.5",
         "98.0",
         "191.0",
         "119.2",
         "61.0",
         "3.0",
         "3.989",
         "86.0",
         "75.0"
        ],
        [
         "49",
         "37.0",
         "2.0",
         "27.7",
         "93.0",
         "180.0",
         "119.4",
         "30.0",
         "6.0",
         "5.0304",
         "88.0",
         "142.0"
        ]
       ],
       "shape": {
        "columns": 11,
        "rows": 442
       }
      },
      "text/html": [
       "<div>\n",
       "<style scoped>\n",
       "    .dataframe tbody tr th:only-of-type {\n",
       "        vertical-align: middle;\n",
       "    }\n",
       "\n",
       "    .dataframe tbody tr th {\n",
       "        vertical-align: top;\n",
       "    }\n",
       "\n",
       "    .dataframe thead th {\n",
       "        text-align: right;\n",
       "    }\n",
       "</style>\n",
       "<table border=\"1\" class=\"dataframe\">\n",
       "  <thead>\n",
       "    <tr style=\"text-align: right;\">\n",
       "      <th></th>\n",
       "      <th>age</th>\n",
       "      <th>sex</th>\n",
       "      <th>bmi</th>\n",
       "      <th>bp</th>\n",
       "      <th>s1</th>\n",
       "      <th>s2</th>\n",
       "      <th>s3</th>\n",
       "      <th>s4</th>\n",
       "      <th>s5</th>\n",
       "      <th>s6</th>\n",
       "      <th>target</th>\n",
       "    </tr>\n",
       "  </thead>\n",
       "  <tbody>\n",
       "    <tr>\n",
       "      <th>0</th>\n",
       "      <td>59.0</td>\n",
       "      <td>2.0</td>\n",
       "      <td>32.1</td>\n",
       "      <td>101.00</td>\n",
       "      <td>157.0</td>\n",
       "      <td>93.2</td>\n",
       "      <td>38.0</td>\n",
       "      <td>4.00</td>\n",
       "      <td>4.8598</td>\n",
       "      <td>87.0</td>\n",
       "      <td>151.0</td>\n",
       "    </tr>\n",
       "    <tr>\n",
       "      <th>1</th>\n",
       "      <td>48.0</td>\n",
       "      <td>1.0</td>\n",
       "      <td>21.6</td>\n",
       "      <td>87.00</td>\n",
       "      <td>183.0</td>\n",
       "      <td>103.2</td>\n",
       "      <td>70.0</td>\n",
       "      <td>3.00</td>\n",
       "      <td>3.8918</td>\n",
       "      <td>69.0</td>\n",
       "      <td>75.0</td>\n",
       "    </tr>\n",
       "    <tr>\n",
       "      <th>2</th>\n",
       "      <td>72.0</td>\n",
       "      <td>2.0</td>\n",
       "      <td>30.5</td>\n",
       "      <td>93.00</td>\n",
       "      <td>156.0</td>\n",
       "      <td>93.6</td>\n",
       "      <td>41.0</td>\n",
       "      <td>4.00</td>\n",
       "      <td>4.6728</td>\n",
       "      <td>85.0</td>\n",
       "      <td>141.0</td>\n",
       "    </tr>\n",
       "    <tr>\n",
       "      <th>3</th>\n",
       "      <td>24.0</td>\n",
       "      <td>1.0</td>\n",
       "      <td>25.3</td>\n",
       "      <td>84.00</td>\n",
       "      <td>198.0</td>\n",
       "      <td>131.4</td>\n",
       "      <td>40.0</td>\n",
       "      <td>5.00</td>\n",
       "      <td>4.8903</td>\n",
       "      <td>89.0</td>\n",
       "      <td>206.0</td>\n",
       "    </tr>\n",
       "    <tr>\n",
       "      <th>4</th>\n",
       "      <td>50.0</td>\n",
       "      <td>1.0</td>\n",
       "      <td>23.0</td>\n",
       "      <td>101.00</td>\n",
       "      <td>192.0</td>\n",
       "      <td>125.4</td>\n",
       "      <td>52.0</td>\n",
       "      <td>4.00</td>\n",
       "      <td>4.2905</td>\n",
       "      <td>80.0</td>\n",
       "      <td>135.0</td>\n",
       "    </tr>\n",
       "    <tr>\n",
       "      <th>...</th>\n",
       "      <td>...</td>\n",
       "      <td>...</td>\n",
       "      <td>...</td>\n",
       "      <td>...</td>\n",
       "      <td>...</td>\n",
       "      <td>...</td>\n",
       "      <td>...</td>\n",
       "      <td>...</td>\n",
       "      <td>...</td>\n",
       "      <td>...</td>\n",
       "      <td>...</td>\n",
       "    </tr>\n",
       "    <tr>\n",
       "      <th>437</th>\n",
       "      <td>60.0</td>\n",
       "      <td>2.0</td>\n",
       "      <td>28.2</td>\n",
       "      <td>112.00</td>\n",
       "      <td>185.0</td>\n",
       "      <td>113.8</td>\n",
       "      <td>42.0</td>\n",
       "      <td>4.00</td>\n",
       "      <td>4.9836</td>\n",
       "      <td>93.0</td>\n",
       "      <td>178.0</td>\n",
       "    </tr>\n",
       "    <tr>\n",
       "      <th>438</th>\n",
       "      <td>47.0</td>\n",
       "      <td>2.0</td>\n",
       "      <td>24.9</td>\n",
       "      <td>75.00</td>\n",
       "      <td>225.0</td>\n",
       "      <td>166.0</td>\n",
       "      <td>42.0</td>\n",
       "      <td>5.00</td>\n",
       "      <td>4.4427</td>\n",
       "      <td>102.0</td>\n",
       "      <td>104.0</td>\n",
       "    </tr>\n",
       "    <tr>\n",
       "      <th>439</th>\n",
       "      <td>60.0</td>\n",
       "      <td>2.0</td>\n",
       "      <td>24.9</td>\n",
       "      <td>99.67</td>\n",
       "      <td>162.0</td>\n",
       "      <td>106.6</td>\n",
       "      <td>43.0</td>\n",
       "      <td>3.77</td>\n",
       "      <td>4.1271</td>\n",
       "      <td>95.0</td>\n",
       "      <td>132.0</td>\n",
       "    </tr>\n",
       "    <tr>\n",
       "      <th>440</th>\n",
       "      <td>36.0</td>\n",
       "      <td>1.0</td>\n",
       "      <td>30.0</td>\n",
       "      <td>95.00</td>\n",
       "      <td>201.0</td>\n",
       "      <td>125.2</td>\n",
       "      <td>42.0</td>\n",
       "      <td>4.79</td>\n",
       "      <td>5.1299</td>\n",
       "      <td>85.0</td>\n",
       "      <td>220.0</td>\n",
       "    </tr>\n",
       "    <tr>\n",
       "      <th>441</th>\n",
       "      <td>36.0</td>\n",
       "      <td>1.0</td>\n",
       "      <td>19.6</td>\n",
       "      <td>71.00</td>\n",
       "      <td>250.0</td>\n",
       "      <td>133.2</td>\n",
       "      <td>97.0</td>\n",
       "      <td>3.00</td>\n",
       "      <td>4.5951</td>\n",
       "      <td>92.0</td>\n",
       "      <td>57.0</td>\n",
       "    </tr>\n",
       "  </tbody>\n",
       "</table>\n",
       "<p>442 rows × 11 columns</p>\n",
       "</div>"
      ],
      "text/plain": [
       "      age  sex   bmi      bp     s1     s2    s3    s4      s5     s6  target\n",
       "0    59.0  2.0  32.1  101.00  157.0   93.2  38.0  4.00  4.8598   87.0   151.0\n",
       "1    48.0  1.0  21.6   87.00  183.0  103.2  70.0  3.00  3.8918   69.0    75.0\n",
       "2    72.0  2.0  30.5   93.00  156.0   93.6  41.0  4.00  4.6728   85.0   141.0\n",
       "3    24.0  1.0  25.3   84.00  198.0  131.4  40.0  5.00  4.8903   89.0   206.0\n",
       "4    50.0  1.0  23.0  101.00  192.0  125.4  52.0  4.00  4.2905   80.0   135.0\n",
       "..    ...  ...   ...     ...    ...    ...   ...   ...     ...    ...     ...\n",
       "437  60.0  2.0  28.2  112.00  185.0  113.8  42.0  4.00  4.9836   93.0   178.0\n",
       "438  47.0  2.0  24.9   75.00  225.0  166.0  42.0  5.00  4.4427  102.0   104.0\n",
       "439  60.0  2.0  24.9   99.67  162.0  106.6  43.0  3.77  4.1271   95.0   132.0\n",
       "440  36.0  1.0  30.0   95.00  201.0  125.2  42.0  4.79  5.1299   85.0   220.0\n",
       "441  36.0  1.0  19.6   71.00  250.0  133.2  97.0  3.00  4.5951   92.0    57.0\n",
       "\n",
       "[442 rows x 11 columns]"
      ]
     },
     "execution_count": 7,
     "metadata": {},
     "output_type": "execute_result"
    }
   ],
   "source": [
    "dm.frame"
   ]
  },
  {
   "cell_type": "code",
   "execution_count": 8,
   "id": "6036c4e0",
   "metadata": {},
   "outputs": [
    {
     "data": {
      "application/vnd.microsoft.datawrangler.viewer.v0+json": {
       "columns": [
        {
         "name": "index",
         "rawType": "int64",
         "type": "integer"
        },
        {
         "name": "target",
         "rawType": "float64",
         "type": "float"
        }
       ],
       "ref": "586be8f6-2299-4e95-a815-a83be4ea35f4",
       "rows": [
        [
         "0",
         "151.0"
        ],
        [
         "1",
         "75.0"
        ],
        [
         "2",
         "141.0"
        ],
        [
         "3",
         "206.0"
        ],
        [
         "4",
         "135.0"
        ]
       ],
       "shape": {
        "columns": 1,
        "rows": 5
       }
      },
      "text/plain": [
       "0    151.0\n",
       "1     75.0\n",
       "2    141.0\n",
       "3    206.0\n",
       "4    135.0\n",
       "Name: target, dtype: float64"
      ]
     },
     "execution_count": 8,
     "metadata": {},
     "output_type": "execute_result"
    }
   ],
   "source": [
    "y_dm: pd.DataFrame= dm.target\n",
    "y_dm.head()\n"
   ]
  },
  {
   "cell_type": "code",
   "execution_count": 9,
   "id": "40a2dbcf",
   "metadata": {},
   "outputs": [
    {
     "data": {
      "text/plain": [
       "(442,)"
      ]
     },
     "execution_count": 9,
     "metadata": {},
     "output_type": "execute_result"
    }
   ],
   "source": [
    "y_dm.shape"
   ]
  },
  {
   "cell_type": "code",
   "execution_count": 10,
   "id": "cb42e2db",
   "metadata": {},
   "outputs": [
    {
     "data": {
      "application/vnd.microsoft.datawrangler.viewer.v0+json": {
       "columns": [
        {
         "name": "index",
         "rawType": "object",
         "type": "string"
        },
        {
         "name": "target",
         "rawType": "float64",
         "type": "float"
        }
       ],
       "ref": "bce7066b-9c46-4642-84ca-12e5b12a5bdb",
       "rows": [
        [
         "count",
         "442.0"
        ],
        [
         "mean",
         "152.13348416289594"
        ],
        [
         "std",
         "77.09300453299109"
        ],
        [
         "min",
         "25.0"
        ],
        [
         "25%",
         "87.0"
        ],
        [
         "50%",
         "140.5"
        ],
        [
         "75%",
         "211.5"
        ],
        [
         "max",
         "346.0"
        ]
       ],
       "shape": {
        "columns": 1,
        "rows": 8
       }
      },
      "text/plain": [
       "count    442.000000\n",
       "mean     152.133484\n",
       "std       77.093005\n",
       "min       25.000000\n",
       "25%       87.000000\n",
       "50%      140.500000\n",
       "75%      211.500000\n",
       "max      346.000000\n",
       "Name: target, dtype: float64"
      ]
     },
     "execution_count": 10,
     "metadata": {},
     "output_type": "execute_result"
    }
   ],
   "source": [
    "y_dm.describe()"
   ]
  },
  {
   "cell_type": "code",
   "execution_count": 11,
   "id": "480847af",
   "metadata": {},
   "outputs": [
    {
     "data": {
      "application/vnd.microsoft.datawrangler.viewer.v0+json": {
       "columns": [
        {
         "name": "sex",
         "rawType": "float64",
         "type": "float"
        },
        {
         "name": "count",
         "rawType": "float64",
         "type": "float"
        },
        {
         "name": "mean",
         "rawType": "float64",
         "type": "float"
        },
        {
         "name": "std",
         "rawType": "float64",
         "type": "float"
        },
        {
         "name": "min",
         "rawType": "float64",
         "type": "float"
        },
        {
         "name": "25%",
         "rawType": "float64",
         "type": "float"
        },
        {
         "name": "50%",
         "rawType": "float64",
         "type": "float"
        },
        {
         "name": "75%",
         "rawType": "float64",
         "type": "float"
        },
        {
         "name": "max",
         "rawType": "float64",
         "type": "float"
        }
       ],
       "ref": "506128ed-f1a5-48d6-861b-b3f60d842076",
       "rows": [
        [
         "1.0",
         "235.0",
         "149.0212765957447",
         "75.90578093636822",
         "25.0",
         "85.5",
         "140.0",
         "200.0",
         "346.0"
        ],
        [
         "2.0",
         "207.0",
         "155.66666666666666",
         "78.45331306004283",
         "39.0",
         "88.0",
         "141.0",
         "220.5",
         "341.0"
        ]
       ],
       "shape": {
        "columns": 8,
        "rows": 2
       }
      },
      "text/html": [
       "<div>\n",
       "<style scoped>\n",
       "    .dataframe tbody tr th:only-of-type {\n",
       "        vertical-align: middle;\n",
       "    }\n",
       "\n",
       "    .dataframe tbody tr th {\n",
       "        vertical-align: top;\n",
       "    }\n",
       "\n",
       "    .dataframe thead th {\n",
       "        text-align: right;\n",
       "    }\n",
       "</style>\n",
       "<table border=\"1\" class=\"dataframe\">\n",
       "  <thead>\n",
       "    <tr style=\"text-align: right;\">\n",
       "      <th></th>\n",
       "      <th>count</th>\n",
       "      <th>mean</th>\n",
       "      <th>std</th>\n",
       "      <th>min</th>\n",
       "      <th>25%</th>\n",
       "      <th>50%</th>\n",
       "      <th>75%</th>\n",
       "      <th>max</th>\n",
       "    </tr>\n",
       "    <tr>\n",
       "      <th>sex</th>\n",
       "      <th></th>\n",
       "      <th></th>\n",
       "      <th></th>\n",
       "      <th></th>\n",
       "      <th></th>\n",
       "      <th></th>\n",
       "      <th></th>\n",
       "      <th></th>\n",
       "    </tr>\n",
       "  </thead>\n",
       "  <tbody>\n",
       "    <tr>\n",
       "      <th>1.0</th>\n",
       "      <td>235.0</td>\n",
       "      <td>149.021277</td>\n",
       "      <td>75.905781</td>\n",
       "      <td>25.0</td>\n",
       "      <td>85.5</td>\n",
       "      <td>140.0</td>\n",
       "      <td>200.0</td>\n",
       "      <td>346.0</td>\n",
       "    </tr>\n",
       "    <tr>\n",
       "      <th>2.0</th>\n",
       "      <td>207.0</td>\n",
       "      <td>155.666667</td>\n",
       "      <td>78.453313</td>\n",
       "      <td>39.0</td>\n",
       "      <td>88.0</td>\n",
       "      <td>141.0</td>\n",
       "      <td>220.5</td>\n",
       "      <td>341.0</td>\n",
       "    </tr>\n",
       "  </tbody>\n",
       "</table>\n",
       "</div>"
      ],
      "text/plain": [
       "     count        mean        std   min   25%    50%    75%    max\n",
       "sex                                                               \n",
       "1.0  235.0  149.021277  75.905781  25.0  85.5  140.0  200.0  346.0\n",
       "2.0  207.0  155.666667  78.453313  39.0  88.0  141.0  220.5  341.0"
      ]
     },
     "execution_count": 11,
     "metadata": {},
     "output_type": "execute_result"
    }
   ],
   "source": [
    "dm_df: pd.DataFrame = dm.frame\n",
    "dm_df.groupby('sex')['target'].describe()"
   ]
  },
  {
   "cell_type": "code",
   "execution_count": 12,
   "id": "7231968d",
   "metadata": {},
   "outputs": [
    {
     "data": {
      "application/vnd.microsoft.datawrangler.viewer.v0+json": {
       "columns": [
        {
         "name": "index",
         "rawType": "int64",
         "type": "integer"
        },
        {
         "name": "age",
         "rawType": "float64",
         "type": "float"
        },
        {
         "name": "sex",
         "rawType": "float64",
         "type": "float"
        },
        {
         "name": "bmi",
         "rawType": "float64",
         "type": "float"
        },
        {
         "name": "bp",
         "rawType": "float64",
         "type": "float"
        },
        {
         "name": "s1",
         "rawType": "float64",
         "type": "float"
        },
        {
         "name": "s2",
         "rawType": "float64",
         "type": "float"
        },
        {
         "name": "s3",
         "rawType": "float64",
         "type": "float"
        },
        {
         "name": "s4",
         "rawType": "float64",
         "type": "float"
        },
        {
         "name": "s5",
         "rawType": "float64",
         "type": "float"
        },
        {
         "name": "s6",
         "rawType": "float64",
         "type": "float"
        }
       ],
       "ref": "866f87c5-9ee8-49d6-8bb0-9d963f34e5a2",
       "rows": [
        [
         "0",
         "59.0",
         "2.0",
         "32.1",
         "101.0",
         "157.0",
         "93.2",
         "38.0",
         "4.0",
         "4.8598",
         "87.0"
        ],
        [
         "1",
         "48.0",
         "1.0",
         "21.6",
         "87.0",
         "183.0",
         "103.2",
         "70.0",
         "3.0",
         "3.8918",
         "69.0"
        ],
        [
         "2",
         "72.0",
         "2.0",
         "30.5",
         "93.0",
         "156.0",
         "93.6",
         "41.0",
         "4.0",
         "4.6728",
         "85.0"
        ],
        [
         "3",
         "24.0",
         "1.0",
         "25.3",
         "84.0",
         "198.0",
         "131.4",
         "40.0",
         "5.0",
         "4.8903",
         "89.0"
        ],
        [
         "4",
         "50.0",
         "1.0",
         "23.0",
         "101.0",
         "192.0",
         "125.4",
         "52.0",
         "4.0",
         "4.2905",
         "80.0"
        ]
       ],
       "shape": {
        "columns": 10,
        "rows": 5
       }
      },
      "text/html": [
       "<div>\n",
       "<style scoped>\n",
       "    .dataframe tbody tr th:only-of-type {\n",
       "        vertical-align: middle;\n",
       "    }\n",
       "\n",
       "    .dataframe tbody tr th {\n",
       "        vertical-align: top;\n",
       "    }\n",
       "\n",
       "    .dataframe thead th {\n",
       "        text-align: right;\n",
       "    }\n",
       "</style>\n",
       "<table border=\"1\" class=\"dataframe\">\n",
       "  <thead>\n",
       "    <tr style=\"text-align: right;\">\n",
       "      <th></th>\n",
       "      <th>age</th>\n",
       "      <th>sex</th>\n",
       "      <th>bmi</th>\n",
       "      <th>bp</th>\n",
       "      <th>s1</th>\n",
       "      <th>s2</th>\n",
       "      <th>s3</th>\n",
       "      <th>s4</th>\n",
       "      <th>s5</th>\n",
       "      <th>s6</th>\n",
       "    </tr>\n",
       "  </thead>\n",
       "  <tbody>\n",
       "    <tr>\n",
       "      <th>0</th>\n",
       "      <td>59.0</td>\n",
       "      <td>2.0</td>\n",
       "      <td>32.1</td>\n",
       "      <td>101.0</td>\n",
       "      <td>157.0</td>\n",
       "      <td>93.2</td>\n",
       "      <td>38.0</td>\n",
       "      <td>4.0</td>\n",
       "      <td>4.8598</td>\n",
       "      <td>87.0</td>\n",
       "    </tr>\n",
       "    <tr>\n",
       "      <th>1</th>\n",
       "      <td>48.0</td>\n",
       "      <td>1.0</td>\n",
       "      <td>21.6</td>\n",
       "      <td>87.0</td>\n",
       "      <td>183.0</td>\n",
       "      <td>103.2</td>\n",
       "      <td>70.0</td>\n",
       "      <td>3.0</td>\n",
       "      <td>3.8918</td>\n",
       "      <td>69.0</td>\n",
       "    </tr>\n",
       "    <tr>\n",
       "      <th>2</th>\n",
       "      <td>72.0</td>\n",
       "      <td>2.0</td>\n",
       "      <td>30.5</td>\n",
       "      <td>93.0</td>\n",
       "      <td>156.0</td>\n",
       "      <td>93.6</td>\n",
       "      <td>41.0</td>\n",
       "      <td>4.0</td>\n",
       "      <td>4.6728</td>\n",
       "      <td>85.0</td>\n",
       "    </tr>\n",
       "    <tr>\n",
       "      <th>3</th>\n",
       "      <td>24.0</td>\n",
       "      <td>1.0</td>\n",
       "      <td>25.3</td>\n",
       "      <td>84.0</td>\n",
       "      <td>198.0</td>\n",
       "      <td>131.4</td>\n",
       "      <td>40.0</td>\n",
       "      <td>5.0</td>\n",
       "      <td>4.8903</td>\n",
       "      <td>89.0</td>\n",
       "    </tr>\n",
       "    <tr>\n",
       "      <th>4</th>\n",
       "      <td>50.0</td>\n",
       "      <td>1.0</td>\n",
       "      <td>23.0</td>\n",
       "      <td>101.0</td>\n",
       "      <td>192.0</td>\n",
       "      <td>125.4</td>\n",
       "      <td>52.0</td>\n",
       "      <td>4.0</td>\n",
       "      <td>4.2905</td>\n",
       "      <td>80.0</td>\n",
       "    </tr>\n",
       "  </tbody>\n",
       "</table>\n",
       "</div>"
      ],
      "text/plain": [
       "    age  sex   bmi     bp     s1     s2    s3   s4      s5    s6\n",
       "0  59.0  2.0  32.1  101.0  157.0   93.2  38.0  4.0  4.8598  87.0\n",
       "1  48.0  1.0  21.6   87.0  183.0  103.2  70.0  3.0  3.8918  69.0\n",
       "2  72.0  2.0  30.5   93.0  156.0   93.6  41.0  4.0  4.6728  85.0\n",
       "3  24.0  1.0  25.3   84.0  198.0  131.4  40.0  5.0  4.8903  89.0\n",
       "4  50.0  1.0  23.0  101.0  192.0  125.4  52.0  4.0  4.2905  80.0"
      ]
     },
     "execution_count": 12,
     "metadata": {},
     "output_type": "execute_result"
    }
   ],
   "source": [
    "x_dm: pd.DataFrame = dm.data\n",
    "x_dm.head()"
   ]
  },
  {
   "cell_type": "code",
   "execution_count": 13,
   "id": "c5af1e14",
   "metadata": {},
   "outputs": [
    {
     "data": {
      "text/plain": [
       "(442, 10)"
      ]
     },
     "execution_count": 13,
     "metadata": {},
     "output_type": "execute_result"
    }
   ],
   "source": [
    "x_dm.shape"
   ]
  },
  {
   "cell_type": "code",
   "execution_count": 21,
   "id": "a4bef4c9",
   "metadata": {},
   "outputs": [],
   "source": [
    "x_dm_mail = x_dm[x_dm['sex']==2]\n",
    "x_dm_femail = x_dm[x_dm['sex']==1]"
   ]
  },
  {
   "cell_type": "code",
   "execution_count": 29,
   "id": "4c77792e",
   "metadata": {},
   "outputs": [
    {
     "data": {
      "text/plain": [
       "TtestResult(statistic=1.8662181072924342, pvalue=0.06267725120660174, df=439.11472589836126)"
      ]
     },
     "execution_count": 29,
     "metadata": {},
     "output_type": "execute_result"
    }
   ],
   "source": [
    "group1=x_dm_mail['bmi'].to_numpy()\n",
    "group2=x_dm_femail['bmi'].to_numpy()\n",
    "stats.ttest_ind(group1,group2,equal_var=False)"
   ]
  },
  {
   "cell_type": "code",
   "execution_count": 43,
   "id": "90570fff",
   "metadata": {},
   "outputs": [
    {
     "name": "stdout",
     "output_type": "stream",
     "text": [
      "age 0.00023555236507108283\n",
      "sex 0.0\n",
      "bmi 0.06267725120660174\n",
      "bp 2.4156344804333644e-07\n",
      "s1 0.4618114455110378\n",
      "s2 0.002780987418452567\n",
      "s3 7.023787165565684e-17\n",
      "s4 1.0782418536247888e-12\n",
      "s5 0.001591359906960309\n",
      "s6 9.919649267508353e-06\n"
     ]
    },
    {
     "name": "stderr",
     "output_type": "stream",
     "text": [
      "/usr/local/lib/python3.10/site-packages/scipy/stats/_axis_nan_policy.py:586: RuntimeWarning: Precision loss occurred in moment calculation due to catastrophic cancellation. This occurs when the data are nearly identical. Results may be unreliable.\n",
      "  res = hypotest_fun_out(*samples, **kwds)\n"
     ]
    }
   ],
   "source": [
    "for k in x_dm.columns:\n",
    "    group1=x_dm_mail[k].to_numpy()\n",
    "    group2=x_dm_femail[k].to_numpy()\n",
    "    p_value=stats.ttest_ind(group1,group2,equal_var=False).pvalue\n",
    "    print(k,p_value)"
   ]
  }
 ],
 "metadata": {
  "kernelspec": {
   "display_name": "Python 3 (ipykernel)",
   "language": "python",
   "name": "python3"
  },
  "language_info": {
   "codemirror_mode": {
    "name": "ipython",
    "version": 3
   },
   "file_extension": ".py",
   "mimetype": "text/x-python",
   "name": "python",
   "nbconvert_exporter": "python",
   "pygments_lexer": "ipython3",
   "version": "3.10.12"
  }
 },
 "nbformat": 4,
 "nbformat_minor": 5
}
