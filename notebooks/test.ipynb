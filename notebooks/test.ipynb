{
 "cells": [
  {
   "cell_type": "code",
   "execution_count": 2,
   "id": "fced5b9e-1dd1-413e-9ada-93a188b83018",
   "metadata": {},
   "outputs": [],
   "source": [
    "import pandas as pd\n",
    "import japanize_matplotlib\n",
    "import matplotlib.pyplot as plt"
   ]
  },
  {
   "cell_type": "code",
   "execution_count": 3,
   "id": "eee3593d",
   "metadata": {},
   "outputs": [
    {
     "data": {
      "image/png": "[encoded data removed]",
      "text/plain": [
       "<Figure size 640x480 with 1 Axes>"
      ]
     },
     "metadata": {},
     "output_type": "display_data"
    }
   ],
   "source": [
    "plt.plot([1, 2, 3, 4])\n",
    "plt.xlabel('簡単なグラフ')\n",
    "plt.show()"
   ]
  },
  {
   "cell_type": "code",
   "execution_count": 4,
   "id": "8c35854b",
   "metadata": {},
   "outputs": [
    {
     "name": "stdout",
     "output_type": "stream",
     "text": [
      "1\n"
     ]
    }
   ],
   "source": [
    "test = 1\n",
    "print(test)"
   ]
  },
  {
   "cell_type": "code",
   "execution_count": 5,
   "id": "6455edb9",
   "metadata": {},
   "outputs": [
    {
     "data": {
      "application/vnd.microsoft.datawrangler.viewer.v0+json": {
       "columns": [
        {
         "name": "index",
         "rawType": "int64",
         "type": "integer"
        },
        {
         "name": "id",
         "rawType": "object",
         "type": "string"
        },
        {
         "name": "tooth name",
         "rawType": "object",
         "type": "string"
        },
        {
         "name": "tooth record",
         "rawType": "object",
         "type": "string"
        },
        {
         "name": "gender",
         "rawType": "object",
         "type": "string"
        },
        {
         "name": "age",
         "rawType": "int64",
         "type": "integer"
        }
       ],
       "ref": "57c32da1-b21f-4e0d-995c-47bd2449d986",
       "rows": [
        [
         "0",
         "pt_1",
         "A1",
         "残存歯",
         "男",
         "77"
        ],
        [
         "1",
         "pt_1",
         "A2",
         "喪失歯",
         "男",
         "77"
        ],
        [
         "2",
         "pt_1",
         "A3",
         "残存歯",
         "男",
         "77"
        ],
        [
         "3",
         "pt_1",
         "A4",
         "残存歯",
         "男",
         "77"
        ],
        [
         "4",
         "pt_1",
         "A5",
         "残存歯",
         "男",
         "77"
        ],
        [
         "5",
         "pt_1",
         "A6",
         "残存歯",
         "男",
         "77"
        ],
        [
         "6",
         "pt_1",
         "A7",
         "喪失歯",
         "男",
         "77"
        ],
        [
         "7",
         "pt_1",
         "A8",
         "残存歯",
         "男",
         "77"
        ],
        [
         "8",
         "pt_1",
         "B1",
         "残存歯",
         "男",
         "77"
        ],
        [
         "9",
         "pt_1",
         "B2",
         "喪失歯",
         "男",
         "77"
        ],
        [
         "10",
         "pt_1",
         "B3",
         "残存歯",
         "男",
         "77"
        ],
        [
         "11",
         "pt_1",
         "B4",
         "残存歯",
         "男",
         "77"
        ],
        [
         "12",
         "pt_1",
         "B5",
         "喪失歯",
         "男",
         "77"
        ],
        [
         "13",
         "pt_1",
         "B6",
         "残存歯",
         "男",
         "77"
        ],
        [
         "14",
         "pt_1",
         "B7",
         "残存歯",
         "男",
         "77"
        ],
        [
         "15",
         "pt_1",
         "B8",
         "残存歯",
         "男",
         "77"
        ],
        [
         "16",
         "pt_1",
         "C1",
         "残存歯",
         "男",
         "77"
        ],
        [
         "17",
         "pt_1",
         "C2",
         "残存歯",
         "男",
         "77"
        ],
        [
         "18",
         "pt_1",
         "C3",
         "喪失歯",
         "男",
         "77"
        ],
        [
         "19",
         "pt_1",
         "C4",
         "残存歯",
         "男",
         "77"
        ],
        [
         "20",
         "pt_1",
         "C5",
         "残存歯",
         "男",
         "77"
        ],
        [
         "21",
         "pt_1",
         "C6",
         "残存歯",
         "男",
         "77"
        ],
        [
         "22",
         "pt_1",
         "C7",
         "喪失歯",
         "男",
         "77"
        ],
        [
         "23",
         "pt_1",
         "C8",
         "残存歯",
         "男",
         "77"
        ],
        [
         "24",
         "pt_1",
         "D1",
         "残存歯",
         "男",
         "77"
        ],
        [
         "25",
         "pt_1",
         "D2",
         "喪失歯",
         "男",
         "77"
        ],
        [
         "26",
         "pt_1",
         "D3",
         "残存歯",
         "男",
         "77"
        ],
        [
         "27",
         "pt_1",
         "D4",
         "喪失歯",
         "男",
         "77"
        ],
        [
         "28",
         "pt_1",
         "D5",
         "残存歯",
         "男",
         "77"
        ],
        [
         "29",
         "pt_1",
         "D6",
         "残存歯",
         "男",
         "77"
        ],
        [
         "30",
         "pt_1",
         "D7",
         "残存歯",
         "男",
         "77"
        ],
        [
         "31",
         "pt_1",
         "D8",
         "残存歯",
         "男",
         "77"
        ],
        [
         "32",
         "pt_2",
         "A1",
         "残存歯",
         "男",
         "79"
        ],
        [
         "33",
         "pt_2",
         "A2",
         "残存歯",
         "男",
         "79"
        ],
        [
         "34",
         "pt_2",
         "A3",
         "残存歯",
         "男",
         "79"
        ],
        [
         "35",
         "pt_2",
         "A4",
         "喪失歯",
         "男",
         "79"
        ],
        [
         "36",
         "pt_2",
         "A5",
         "残存歯",
         "男",
         "79"
        ],
        [
         "37",
         "pt_2",
         "A6",
         "残存歯",
         "男",
         "79"
        ],
        [
         "38",
         "pt_2",
         "A7",
         "残存歯",
         "男",
         "79"
        ],
        [
         "39",
         "pt_2",
         "A8",
         "残存歯",
         "男",
         "79"
        ],
        [
         "40",
         "pt_2",
         "B1",
         "喪失歯",
         "男",
         "79"
        ],
        [
         "41",
         "pt_2",
         "B2",
         "残存歯",
         "男",
         "79"
        ],
        [
         "42",
         "pt_2",
         "B3",
         "残存歯",
         "男",
         "79"
        ],
        [
         "43",
         "pt_2",
         "B4",
         "残存歯",
         "男",
         "79"
        ],
        [
         "44",
         "pt_2",
         "B5",
         "残存歯",
         "男",
         "79"
        ],
        [
         "45",
         "pt_2",
         "B6",
         "残存歯",
         "男",
         "79"
        ],
        [
         "46",
         "pt_2",
         "B7",
         "残存歯",
         "男",
         "79"
        ],
        [
         "47",
         "pt_2",
         "B8",
         "残存歯",
         "男",
         "79"
        ],
        [
         "48",
         "pt_2",
         "C1",
         "残存歯",
         "男",
         "79"
        ],
        [
         "49",
         "pt_2",
         "C2",
         "残存歯",
         "男",
         "79"
        ]
       ],
       "shape": {
        "columns": 5,
        "rows": 53024
       }
      },
      "text/html": [
       "<div>\n",
       "<style scoped>\n",
       "    .dataframe tbody tr th:only-of-type {\n",
       "        vertical-align: middle;\n",
       "    }\n",
       "\n",
       "    .dataframe tbody tr th {\n",
       "        vertical-align: top;\n",
       "    }\n",
       "\n",
       "    .dataframe thead th {\n",
       "        text-align: right;\n",
       "    }\n",
       "</style>\n",
       "<table border=\"1\" class=\"dataframe\">\n",
       "  <thead>\n",
       "    <tr style=\"text-align: right;\">\n",
       "      <th></th>\n",
       "      <th>id</th>\n",
       "      <th>tooth name</th>\n",
       "      <th>tooth record</th>\n",
       "      <th>gender</th>\n",
       "      <th>age</th>\n",
       "    </tr>\n",
       "  </thead>\n",
       "  <tbody>\n",
       "    <tr>\n",
       "      <th>0</th>\n",
       "      <td>pt_1</td>\n",
       "      <td>A1</td>\n",
       "      <td>残存歯</td>\n",
       "      <td>男</td>\n",
       "      <td>77</td>\n",
       "    </tr>\n",
       "    <tr>\n",
       "      <th>1</th>\n",
       "      <td>pt_1</td>\n",
       "      <td>A2</td>\n",
       "      <td>喪失歯</td>\n",
       "      <td>男</td>\n",
       "      <td>77</td>\n",
       "    </tr>\n",
       "    <tr>\n",
       "      <th>2</th>\n",
       "      <td>pt_1</td>\n",
       "      <td>A3</td>\n",
       "      <td>残存歯</td>\n",
       "      <td>男</td>\n",
       "      <td>77</td>\n",
       "    </tr>\n",
       "    <tr>\n",
       "      <th>3</th>\n",
       "      <td>pt_1</td>\n",
       "      <td>A4</td>\n",
       "      <td>残存歯</td>\n",
       "      <td>男</td>\n",
       "      <td>77</td>\n",
       "    </tr>\n",
       "    <tr>\n",
       "      <th>4</th>\n",
       "      <td>pt_1</td>\n",
       "      <td>A5</td>\n",
       "      <td>残存歯</td>\n",
       "      <td>男</td>\n",
       "      <td>77</td>\n",
       "    </tr>\n",
       "    <tr>\n",
       "      <th>...</th>\n",
       "      <td>...</td>\n",
       "      <td>...</td>\n",
       "      <td>...</td>\n",
       "      <td>...</td>\n",
       "      <td>...</td>\n",
       "    </tr>\n",
       "    <tr>\n",
       "      <th>53019</th>\n",
       "      <td>pt_1657</td>\n",
       "      <td>D4</td>\n",
       "      <td>喪失歯</td>\n",
       "      <td>女</td>\n",
       "      <td>40</td>\n",
       "    </tr>\n",
       "    <tr>\n",
       "      <th>53020</th>\n",
       "      <td>pt_1657</td>\n",
       "      <td>D5</td>\n",
       "      <td>残存歯</td>\n",
       "      <td>女</td>\n",
       "      <td>40</td>\n",
       "    </tr>\n",
       "    <tr>\n",
       "      <th>53021</th>\n",
       "      <td>pt_1657</td>\n",
       "      <td>D6</td>\n",
       "      <td>残存歯</td>\n",
       "      <td>女</td>\n",
       "      <td>40</td>\n",
       "    </tr>\n",
       "    <tr>\n",
       "      <th>53022</th>\n",
       "      <td>pt_1657</td>\n",
       "      <td>D7</td>\n",
       "      <td>喪失歯</td>\n",
       "      <td>女</td>\n",
       "      <td>40</td>\n",
       "    </tr>\n",
       "    <tr>\n",
       "      <th>53023</th>\n",
       "      <td>pt_1657</td>\n",
       "      <td>D8</td>\n",
       "      <td>残存歯</td>\n",
       "      <td>女</td>\n",
       "      <td>40</td>\n",
       "    </tr>\n",
       "  </tbody>\n",
       "</table>\n",
       "<p>53024 rows × 5 columns</p>\n",
       "</div>"
      ],
      "text/plain": [
       "            id tooth name tooth record gender  age\n",
       "0         pt_1         A1          残存歯      男   77\n",
       "1         pt_1         A2          喪失歯      男   77\n",
       "2         pt_1         A3          残存歯      男   77\n",
       "3         pt_1         A4          残存歯      男   77\n",
       "4         pt_1         A5          残存歯      男   77\n",
       "...        ...        ...          ...    ...  ...\n",
       "53019  pt_1657         D4          喪失歯      女   40\n",
       "53020  pt_1657         D5          残存歯      女   40\n",
       "53021  pt_1657         D6          残存歯      女   40\n",
       "53022  pt_1657         D7          喪失歯      女   40\n",
       "53023  pt_1657         D8          残存歯      女   40\n",
       "\n",
       "[53024 rows x 5 columns]"
      ]
     },
     "execution_count": 5,
     "metadata": {},
     "output_type": "execute_result"
    }
   ],
   "source": [
    "klist=pd.read_csv(\"data/dwhdata.csv\",encoding=\"utf-8\")\n",
    "klist"
   ]
  },
  {
   "cell_type": "code",
   "execution_count": 6,
   "id": "81212fef",
   "metadata": {},
   "outputs": [
    {
     "name": "stdout",
     "output_type": "stream",
     "text": [
      "(53024, 5)\n",
      "265120\n",
      "Index(['id', 'tooth name', 'tooth record', 'gender', 'age'], dtype='object')\n"
     ]
    }
   ],
   "source": [
    "print(klist.shape)\n",
    "print(klist.size)\n",
    "print(klist.columns)"
   ]
  },
  {
   "cell_type": "code",
   "execution_count": 7,
   "id": "e4ac1333",
   "metadata": {},
   "outputs": [
    {
     "name": "stdout",
     "output_type": "stream",
     "text": [
      "0        77\n",
      "1        77\n",
      "2        77\n",
      "3        77\n",
      "4        77\n",
      "         ..\n",
      "53019    40\n",
      "53020    40\n",
      "53021    40\n",
      "53022    40\n",
      "53023    40\n",
      "Name: age, Length: 53024, dtype: int64\n"
     ]
    }
   ],
   "source": [
    "print(klist['age'])"
   ]
  },
  {
   "cell_type": "code",
   "execution_count": 8,
   "id": "83ad0b39",
   "metadata": {},
   "outputs": [
    {
     "name": "stdout",
     "output_type": "stream",
     "text": [
      "            id  age\n",
      "0         pt_1   77\n",
      "1         pt_1   77\n",
      "2         pt_1   77\n",
      "3         pt_1   77\n",
      "4         pt_1   77\n",
      "...        ...  ...\n",
      "53019  pt_1657   40\n",
      "53020  pt_1657   40\n",
      "53021  pt_1657   40\n",
      "53022  pt_1657   40\n",
      "53023  pt_1657   40\n",
      "\n",
      "[53024 rows x 2 columns]\n"
     ]
    }
   ],
   "source": [
    "print(klist[['id','age']])"
   ]
  },
  {
   "cell_type": "code",
   "execution_count": 9,
   "id": "9d1e4a46",
   "metadata": {},
   "outputs": [
    {
     "name": "stdout",
     "output_type": "stream",
     "text": [
      "     id tooth name tooth record gender  age\n",
      "0  pt_1         A1          残存歯      男   77\n"
     ]
    }
   ],
   "source": [
    "print(klist[0:1])"
   ]
  },
  {
   "cell_type": "code",
   "execution_count": 10,
   "id": "fb93b8f2",
   "metadata": {},
   "outputs": [
    {
     "name": "stdout",
     "output_type": "stream",
     "text": [
      "     id tooth name tooth record gender  age\n",
      "3  pt_1         A4          残存歯      男   77\n",
      "4  pt_1         A5          残存歯      男   77\n",
      "5  pt_1         A6          残存歯      男   77\n",
      "6  pt_1         A7          喪失歯      男   77\n",
      "7  pt_1         A8          残存歯      男   77\n",
      "8  pt_1         B1          残存歯      男   77\n",
      "9  pt_1         B2          喪失歯      男   77\n"
     ]
    }
   ],
   "source": [
    "print(klist[3:10])"
   ]
  },
  {
   "cell_type": "code",
   "execution_count": 11,
   "id": "017604f0",
   "metadata": {},
   "outputs": [
    {
     "name": "stdout",
     "output_type": "stream",
     "text": [
      "A4\n"
     ]
    }
   ],
   "source": [
    "print(klist.loc[3,'tooth name'])"
   ]
  },
  {
   "cell_type": "code",
   "execution_count": 12,
   "id": "e264eeec",
   "metadata": {},
   "outputs": [
    {
     "name": "stdout",
     "output_type": "stream",
     "text": [
      "  tooth name tooth record\n",
      "4         A5          残存歯\n",
      "5         A6          残存歯\n",
      "6         A7          喪失歯\n"
     ]
    }
   ],
   "source": [
    "print(klist.loc[\n",
    "                4:6,\n",
    "                ['tooth name','tooth record']])"
   ]
  },
  {
   "cell_type": "code",
   "execution_count": 13,
   "id": "77ea8f0f",
   "metadata": {},
   "outputs": [
    {
     "name": "stdout",
     "output_type": "stream",
     "text": [
      "         id tooth name tooth record gender  age\n",
      "1000  pt_32         B1          残存歯      女   77\n",
      "1001  pt_32         B2          残存歯      女   77\n",
      "1002  pt_32         B3          残存歯      女   77\n",
      "1003  pt_32         B4          残存歯      女   77\n",
      "1004  pt_32         B5          喪失歯      女   77\n",
      "...     ...        ...          ...    ...  ...\n",
      "1996  pt_63         B5          残存歯      女   76\n",
      "1997  pt_63         B6          残存歯      女   76\n",
      "1998  pt_63         B7          残存歯      女   76\n",
      "1999  pt_63         B8          残存歯      女   76\n",
      "2000  pt_63         C1          喪失歯      女   76\n",
      "\n",
      "[1001 rows x 5 columns]\n"
     ]
    }
   ],
   "source": [
    "print(klist.loc[1000:2000,:])"
   ]
  },
  {
   "cell_type": "code",
   "execution_count": 14,
   "id": "037fa8bd",
   "metadata": {},
   "outputs": [
    {
     "name": "stdout",
     "output_type": "stream",
     "text": [
      "test\n"
     ]
    }
   ],
   "source": [
    "print(\"test\")"
   ]
  },
  {
   "cell_type": "code",
   "execution_count": 15,
   "id": "4280c915",
   "metadata": {},
   "outputs": [
    {
     "name": "stdout",
     "output_type": "stream",
     "text": [
      "            id tooth name tooth record gender  age\n",
      "0         pt_1         A1          残存歯      男   77\n",
      "1         pt_1         A2          喪失歯      男   77\n",
      "2         pt_1         A3          残存歯      男   77\n",
      "3         pt_1         A4          残存歯      男   77\n",
      "4         pt_1         A5          残存歯      男   77\n",
      "...        ...        ...          ...    ...  ...\n",
      "52891  pt_1653         D4          喪失歯      男   36\n",
      "52892  pt_1653         D5          残存歯      男   36\n",
      "52893  pt_1653         D6          残存歯      男   36\n",
      "52894  pt_1653         D7          残存歯      男   36\n",
      "52895  pt_1653         D8          残存歯      男   36\n",
      "\n",
      "[20672 rows x 5 columns]\n"
     ]
    }
   ],
   "source": [
    "print(klist[klist['gender']=='男'])"
   ]
  },
  {
   "cell_type": "code",
   "execution_count": 16,
   "id": "1a306c2b",
   "metadata": {},
   "outputs": [
    {
     "name": "stdout",
     "output_type": "stream",
     "text": [
      "['pt_1' 'pt_2' 'pt_3' ... 'pt_1655' 'pt_1656' 'pt_1657']\n",
      "1657\n"
     ]
    }
   ],
   "source": [
    "print(klist['id'].unique())\n",
    "print(klist['id'].nunique())"
   ]
  },
  {
   "cell_type": "code",
   "execution_count": 26,
   "id": "cbf5ab9f",
   "metadata": {},
   "outputs": [
    {
     "name": "stdout",
     "output_type": "stream",
     "text": [
      "id\n",
      "pt_1       [77]\n",
      "pt_10      [76]\n",
      "pt_100     [72]\n",
      "pt_1000    [54]\n",
      "pt_1001    [56]\n",
      "           ... \n",
      "pt_995     [55]\n",
      "pt_996     [55]\n",
      "pt_997     [55]\n",
      "pt_998     [53]\n",
      "pt_999     [55]\n",
      "Name: age, Length: 1657, dtype: object\n"
     ]
    }
   ],
   "source": [
    "print(klist.groupby('id')['age'].unique())"
   ]
  },
  {
   "cell_type": "code",
   "execution_count": 31,
   "id": "bdbc80d4",
   "metadata": {},
   "outputs": [
    {
     "name": "stdout",
     "output_type": "stream",
     "text": [
      "test\n"
     ]
    }
   ],
   "source": [
    "print(\"test\")\n"
   ]
  },
  {
   "cell_type": "code",
   "execution_count": null,
   "id": "429a375c",
   "metadata": {},
   "outputs": [],
   "source": [
    "# TODO 課題1 "
   ]
  }
 ],
 "metadata": {
  "kernelspec": {
   "display_name": "Python 3",
   "language": "python",
   "name": "python3"
  },
  "language_info": {
   "codemirror_mode": {
    "name": "ipython",
    "version": 3
   },
   "file_extension": ".py",
   "mimetype": "text/x-python",
   "name": "python",
   "nbconvert_exporter": "python",
   "pygments_lexer": "ipython3",
   "version": "3.10.12"
  }
 },
 "nbformat": 4,
 "nbformat_minor": 5
}
