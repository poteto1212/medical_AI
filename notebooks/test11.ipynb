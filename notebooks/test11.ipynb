{
 "cells": [
  {
   "cell_type": "code",
   "execution_count": null,
   "id": "7d31b230",
   "metadata": {},
   "outputs": [],
   "source": [
    "#画像認識の実装\n"
   ]
  },
  {
   "cell_type": "code",
   "execution_count": null,
   "id": "ef3c1e15",
   "metadata": {},
   "outputs": [],
   "source": []
  }
 ],
 "metadata": {
  "language_info": {
   "name": "python"
  }
 },
 "nbformat": 4,
 "nbformat_minor": 5
}
