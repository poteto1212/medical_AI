{
 "cells": [
  {
   "cell_type": "code",
   "execution_count": 1,
   "id": "20165434",
   "metadata": {},
   "outputs": [],
   "source": [
    "#TODO 糖尿病データの前処理\n",
    "test =1"
   ]
  },
  {
   "cell_type": "code",
   "execution_count": null,
   "id": "102666eb",
   "metadata": {},
   "outputs": [],
   "source": []
  }
 ],
 "metadata": {
  "kernelspec": {
   "display_name": "Python 3",
   "language": "python",
   "name": "python3"
  },
  "language_info": {
   "codemirror_mode": {
    "name": "ipython",
    "version": 3
   },
   "file_extension": ".py",
   "mimetype": "text/x-python",
   "name": "python",
   "nbconvert_exporter": "python",
   "pygments_lexer": "ipython3",
   "version": "3.11.14"
  }
 },
 "nbformat": 4,
 "nbformat_minor": 5
}
