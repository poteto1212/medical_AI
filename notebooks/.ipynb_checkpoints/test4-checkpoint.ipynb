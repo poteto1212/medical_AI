{
 "cells": [
  {
   "cell_type": "code",
   "execution_count": null,
   "id": "20165434",
   "metadata": {},
   "outputs": [],
   "source": [
    "#TODO 糖尿病データの前処理\n",
    "import pandas as pd\n",
    "import numpy as np\n",
    "from sklearn.model_selection import train_test_split\n",
    "from sklearn.linear_model import LogisticRegression,LinearRegression\n",
    "from sklearn.datasets import load_diabetes , load_breast_cancer\n",
    "\n",
    "dm_df: pd.DataFrame = load_diabetes(as_frame=True,scaled=False).frame\n",
    "bc_df: pd.DataFrame = load_breast_cancer(as_frame=True,scaled=False).frame\n"
   ]
  },
  {
   "cell_type": "code",
   "execution_count": null,
   "id": "102666eb",
   "metadata": {},
   "outputs": [],
   "source": []
  }
 ],
 "metadata": {
  "kernelspec": {
   "display_name": "Python 3",
   "language": "python",
   "name": "python3"
  },
  "language_info": {
   "codemirror_mode": {
    "name": "ipython",
    "version": 3
   },
   "file_extension": ".py",
   "mimetype": "text/x-python",
   "name": "python",
   "nbconvert_exporter": "python",
   "pygments_lexer": "ipython3",
   "version": "3.11.14"
  }
 },
 "nbformat": 4,
 "nbformat_minor": 5
}
