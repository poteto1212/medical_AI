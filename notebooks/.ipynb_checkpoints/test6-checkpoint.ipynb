{
 "cells": [
  {
   "cell_type": "code",
   "execution_count": null,
   "id": "5f8a16a8",
   "metadata": {},
   "outputs": [],
   "source": [
    "#TODO 決定木分析"
   ]
  }
 ],
 "metadata": {
  "language_info": {
   "name": "python"
  }
 },
 "nbformat": 4,
 "nbformat_minor": 5
}
